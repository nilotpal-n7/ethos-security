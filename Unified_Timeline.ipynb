{
 "cells": [
  {
   "cell_type": "code",
   "execution_count": 372,
   "id": "b005ed75-5f86-4be2-9f18-20c33b9f60f8",
   "metadata": {},
   "outputs": [],
   "source": [
    "import pandas as pd\n",
    "import numpy as np\n",
    "\n",
    "df_profiles = pd.read_csv(\"student_or_staff_profiles.csv\")\n",
    "df_profiles['student_id/staff_id'] = df_profiles['student_id'].fillna(df_profiles['staff_id'])\n",
    "df_profiles = df_profiles[['entity_id','name','role','email','department','student_id/staff_id','card_id','device_hash','face_id']]\n",
    "df_swipes = pd.read_csv(\"campus_card_swipes.csv\")\n",
    "df_wifi = pd.read_csv(\"wifi_associations_logs.csv\")\n",
    "df_wifi['timestamp']=pd.to_datetime(df_wifi['timestamp'])\n"
   ]
  },
  {
   "cell_type": "code",
   "execution_count": 373,
   "id": "7a3108bf-fec4-4722-a4d2-54073aa0a492",
   "metadata": {},
   "outputs": [],
   "source": [
    "swipes_with_person = pd.merge(df_swipes[['card_id','location_id','timestamp']], df_profiles[['card_id', 'student_id/staff_id', 'name','role','entity_id','email','department','face_id']], on='card_id', how='left')\n",
    "wifi_with_person = pd.merge(df_wifi[['device_hash','ap_id','timestamp',]], df_profiles[['device_hash', 'student_id/staff_id', 'name','role','entity_id','email','department','face_id']], on='device_hash', how='left')"
   ]
  },
  {
   "cell_type": "code",
   "execution_count": 374,
   "id": "8fe1bab8-0d22-4d86-a41f-5061919fee51",
   "metadata": {},
   "outputs": [],
   "source": [
    "swipes_std = swipes_with_person.copy()\n",
    "swipes_std.rename(columns={'location_id': 'location_id/ap_id'}, inplace=True)\n",
    "swipes_std.rename(columns={'card_id': 'card_id/device_hash'}, inplace=True)\n",
    "swipes_std['event_type'] = 'card_swipe'\n",
    "\n",
    "wifi_std = wifi_with_person.copy()\n",
    "wifi_std.rename(columns={'ap_id': 'location_id/ap_id'}, inplace=True)\n",
    "wifi_std.rename(columns={'device_hash': 'card_id/device_hash'}, inplace=True)\n",
    "wifi_std['event_type'] = 'wifi_log'\n"
   ]
  },
  {
   "cell_type": "code",
   "execution_count": 375,
   "id": "6477b287-967b-49ca-af77-db6e1e0f640d",
   "metadata": {},
   "outputs": [],
   "source": [
    "unified_timeline_swipe_wifi = pd.concat([swipes_std, wifi_std], ignore_index=True)\n",
    "unified_timeline_swipe_wifi.sort_values(by=['student_id/staff_id', 'timestamp'], inplace=True)\n",
    "unified_timeline_swipe_wifi.reset_index(drop=True, inplace=True)\n",
    "#unified_timeline_swipe_wifi"
   ]
  },
  {
   "cell_type": "code",
   "execution_count": 376,
   "id": "af53e068-f07f-49fd-b410-d945a2ec2ed7",
   "metadata": {},
   "outputs": [],
   "source": [
    "#unified_timeline_swipe_wifi.to_csv(\"unified_timeline_swipe_wifi.csv\")"
   ]
  },
  {
   "cell_type": "code",
   "execution_count": 377,
   "id": "47b4dd73-f9e7-49d7-8e66-21d49665137b",
   "metadata": {},
   "outputs": [
    {
     "name": "stderr",
     "output_type": "stream",
     "text": [
      "C:\\Users\\anubh\\AppData\\Local\\Temp\\ipykernel_17856\\1485214148.py:7: SettingWithCopyWarning: \n",
      "A value is trying to be set on a copy of a slice from a DataFrame.\n",
      "Try using .loc[row_indexer,col_indexer] = value instead\n",
      "\n",
      "See the caveats in the documentation: https://pandas.pydata.org/pandas-docs/stable/user_guide/indexing.html#returning-a-view-versus-a-copy\n",
      "  checkouts_std['location_id/ap_id']='LIBRARY'\n",
      "C:\\Users\\anubh\\AppData\\Local\\Temp\\ipykernel_17856\\1485214148.py:8: SettingWithCopyWarning: \n",
      "A value is trying to be set on a copy of a slice from a DataFrame\n",
      "\n",
      "See the caveats in the documentation: https://pandas.pydata.org/pandas-docs/stable/user_guide/indexing.html#returning-a-view-versus-a-copy\n",
      "  checkouts_std.rename(columns={'checkout_id(book_id)': 'checkout_id(book_id)/card_id/device_hash'}, inplace=True)\n",
      "C:\\Users\\anubh\\AppData\\Local\\Temp\\ipykernel_17856\\1485214148.py:9: SettingWithCopyWarning: \n",
      "A value is trying to be set on a copy of a slice from a DataFrame.\n",
      "Try using .loc[row_indexer,col_indexer] = value instead\n",
      "\n",
      "See the caveats in the documentation: https://pandas.pydata.org/pandas-docs/stable/user_guide/indexing.html#returning-a-view-versus-a-copy\n",
      "  checkouts_std['event_type'] = 'library_checkout'\n"
     ]
    }
   ],
   "source": [
    "df_checkouts = pd.read_csv(\"library_checkouts.csv\")\n",
    "\n",
    "checkouts_with_person = pd.merge(df_checkouts, df_profiles[['card_id', 'student_id/staff_id', 'name','role','entity_id','email','department','face_id']], on = 'entity_id', how = 'left')\n",
    "checkouts_with_person['checkout_id(book_id)'] = checkouts_with_person['checkout_id']+\"(\"+checkouts_with_person['book_id']+\")\"\n",
    "\n",
    "checkouts_std = checkouts_with_person[['checkout_id(book_id)','timestamp','student_id/staff_id','name','entity_id','role','email','department','face_id']]\n",
    "checkouts_std['location_id/ap_id']='LIBRARY'\n",
    "checkouts_std.rename(columns={'checkout_id(book_id)': 'checkout_id(book_id)/card_id/device_hash'}, inplace=True)\n",
    "checkouts_std['event_type'] = 'library_checkout'\n",
    "checkouts_std = checkouts_std[['checkout_id(book_id)/card_id/device_hash','location_id/ap_id','timestamp','student_id/staff_id','name','role','entity_id','event_type','email','department','face_id']]\n",
    "#checkouts_std"
   ]
  },
  {
   "cell_type": "code",
   "execution_count": 378,
   "id": "c11de7ae-8d32-4eab-a697-57ded2788b45",
   "metadata": {},
   "outputs": [],
   "source": [
    "unified_timeline_swipe_wifi.rename(columns={'card_id/device_hash': 'checkout_id(book_id)/card_id/device_hash'}, inplace=True)\n",
    "unified_timeline_swipe_wifi_checkouts = pd.concat([unified_timeline_swipe_wifi, checkouts_std], ignore_index=True)\n",
    "unified_timeline_swipe_wifi_checkouts.sort_values(by=['student_id/staff_id', 'timestamp'], inplace=True)\n",
    "unified_timeline_swipe_wifi_checkouts.reset_index(drop=True, inplace=True)\n",
    "unified_timeline_swipe_wifi_checkouts.rename(columns={'location_id/ap_id': 'location_id/ap_id/room_id'}, inplace=True)\n",
    "#unified_timeline_swipe_wifi_checkouts"
   ]
  },
  {
   "cell_type": "code",
   "execution_count": 379,
   "id": "440dc13e-fe62-4f89-ad5a-a5a105e6528c",
   "metadata": {},
   "outputs": [],
   "source": [
    "#unified_timeline_swipe_wifi_checkouts.to_csv(\"unified_timeline_swipe_wifi_checkouts.csv\")"
   ]
  },
  {
   "cell_type": "code",
   "execution_count": 380,
   "id": "babb07c4-d872-4d51-be11-f3c9279f3ab8",
   "metadata": {},
   "outputs": [
    {
     "name": "stderr",
     "output_type": "stream",
     "text": [
      "C:\\Users\\anubh\\AppData\\Local\\Temp\\ipykernel_17856\\101524182.py:12: SettingWithCopyWarning: \n",
      "A value is trying to be set on a copy of a slice from a DataFrame\n",
      "\n",
      "See the caveats in the documentation: https://pandas.pydata.org/pandas-docs/stable/user_guide/indexing.html#returning-a-view-versus-a-copy\n",
      "  df_lab_start.rename(columns={'room_id':'location_id/ap_id/room_id'}, inplace = True)\n",
      "C:\\Users\\anubh\\AppData\\Local\\Temp\\ipykernel_17856\\101524182.py:13: SettingWithCopyWarning: \n",
      "A value is trying to be set on a copy of a slice from a DataFrame\n",
      "\n",
      "See the caveats in the documentation: https://pandas.pydata.org/pandas-docs/stable/user_guide/indexing.html#returning-a-view-versus-a-copy\n",
      "  df_lab_end.rename(columns={'room_id':'location_id/ap_id/room_id'}, inplace = True)\n",
      "C:\\Users\\anubh\\AppData\\Local\\Temp\\ipykernel_17856\\101524182.py:15: SettingWithCopyWarning: \n",
      "A value is trying to be set on a copy of a slice from a DataFrame\n",
      "\n",
      "See the caveats in the documentation: https://pandas.pydata.org/pandas-docs/stable/user_guide/indexing.html#returning-a-view-versus-a-copy\n",
      "  df_lab_start.rename(columns={'start_time':'timestamp'}, inplace = True)\n",
      "C:\\Users\\anubh\\AppData\\Local\\Temp\\ipykernel_17856\\101524182.py:16: SettingWithCopyWarning: \n",
      "A value is trying to be set on a copy of a slice from a DataFrame\n",
      "\n",
      "See the caveats in the documentation: https://pandas.pydata.org/pandas-docs/stable/user_guide/indexing.html#returning-a-view-versus-a-copy\n",
      "  df_lab_end.rename(columns={'end_time':'timestamp'}, inplace = True)\n"
     ]
    }
   ],
   "source": [
    "df_lab = pd.read_csv(\"lab_bookings.csv\")\n",
    "df_lab['start_time'] = pd.to_datetime(df_lab['start_time'])\n",
    "df_lab['end_time'] = pd.to_datetime(df_lab['end_time'])\n",
    "df_lab = df_lab[df_lab['attended (YES/NO)']=='YES']\n",
    "df_lab.reset_index(drop=True, inplace=True)\n",
    "df_lab = df_lab[['booking_id','entity_id','room_id','start_time','end_time']]\n",
    "df_lab.rename(columns={'booking_id':'booking_id/checkout_id(book_id)/card_id/device_hash'}, inplace = True)\n",
    "\n",
    "df_lab_start = df_lab[['booking_id/checkout_id(book_id)/card_id/device_hash','entity_id','room_id','start_time']]\n",
    "df_lab_end = df_lab[['booking_id/checkout_id(book_id)/card_id/device_hash','entity_id','room_id','end_time']]\n",
    "\n",
    "df_lab_start.rename(columns={'room_id':'location_id/ap_id/room_id'}, inplace = True)\n",
    "df_lab_end.rename(columns={'room_id':'location_id/ap_id/room_id'}, inplace = True)\n",
    "\n",
    "df_lab_start.rename(columns={'start_time':'timestamp'}, inplace = True)\n",
    "df_lab_end.rename(columns={'end_time':'timestamp'}, inplace = True)\n",
    "\n",
    "df_lab_start['event_type']='lab_start'\n",
    "df_lab_end['event_type']='lab_end'\n",
    "\n",
    "labs_with_person_start = pd.merge(df_lab_start, df_profiles, on = 'entity_id', how = 'left')\n",
    "labs_with_person_end = pd.merge(df_lab_end, df_profiles, on = 'entity_id', how = 'left')\n",
    "\n",
    "labs_with_person_start_std = labs_with_person_start[['booking_id/checkout_id(book_id)/card_id/device_hash','location_id/ap_id/room_id','timestamp','student_id/staff_id','name','role','entity_id','event_type','email','department','face_id']]\n",
    "labs_with_person_end_std = labs_with_person_end[['booking_id/checkout_id(book_id)/card_id/device_hash','location_id/ap_id/room_id','timestamp','student_id/staff_id','name','role','entity_id','event_type','email','department','face_id']]\n",
    "\n",
    "labs_with_person_std = pd.concat([labs_with_person_start_std, labs_with_person_end_std], ignore_index=True)\n",
    "#labs_with_person_std"
   ]
  },
  {
   "cell_type": "code",
   "execution_count": 381,
   "id": "504fdeee-dc9c-4109-b9cd-724fe9a9abac",
   "metadata": {},
   "outputs": [],
   "source": [
    "unified_timeline_swipe_wifi_checkouts.rename(columns={'checkout_id(book_id)/card_id/device_hash': 'booking_id/checkout_id(book_id)/card_id/device_hash'}, inplace=True)\n",
    "unified_timeline_swipe_wifi_checkouts_labs = pd.concat([unified_timeline_swipe_wifi_checkouts, labs_with_person_std ], ignore_index=True)\n",
    "unified_timeline_swipe_wifi_checkouts_labs.sort_values(by=['student_id/staff_id', 'timestamp'], inplace=True)\n",
    "unified_timeline_swipe_wifi_checkouts_labs.reset_index(drop=True, inplace=True)\n",
    "unified_timeline_swipe_wifi_checkouts_labs = unified_timeline_swipe_wifi_checkouts_labs[['student_id/staff_id','timestamp','name','role','department','email','booking_id/checkout_id(book_id)/card_id/device_hash','location_id/ap_id/room_id','entity_id','face_id','event_type']]"
   ]
  },
  {
   "cell_type": "code",
   "execution_count": 382,
   "id": "3a6a47cd-7f0a-46f0-922c-98264d7062b3",
   "metadata": {},
   "outputs": [],
   "source": [
    "unified_timeline_swipe_wifi_checkouts_labs.to_csv(\"unified_timeline_swipe_wifi_checkouts_labs.csv\")"
   ]
  },
  {
   "cell_type": "code",
   "execution_count": null,
   "id": "a85e7d9e-a1af-4ce8-b7d8-52cdb73b4809",
   "metadata": {},
   "outputs": [],
   "source": []
  },
  {
   "cell_type": "code",
   "execution_count": null,
   "id": "4ce29511-94db-49be-a7d9-aa910046c2fd",
   "metadata": {},
   "outputs": [],
   "source": []
  }
 ],
 "metadata": {
  "kernelspec": {
   "display_name": "Python 3 (ipykernel)",
   "language": "python",
   "name": "python3"
  },
  "language_info": {
   "codemirror_mode": {
    "name": "ipython",
    "version": 3
   },
   "file_extension": ".py",
   "mimetype": "text/x-python",
   "name": "python",
   "nbconvert_exporter": "python",
   "pygments_lexer": "ipython3",
   "version": "3.12.4"
  }
 },
 "nbformat": 4,
 "nbformat_minor": 5
}
